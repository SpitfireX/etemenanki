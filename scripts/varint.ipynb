{
 "cells": [
  {
   "cell_type": "code",
   "execution_count": 9,
   "metadata": {},
   "outputs": [
    {
     "data": {
      "text/plain": [
       "'0x11223344556677'"
      ]
     },
     "execution_count": 9,
     "metadata": {},
     "output_type": "execute_result"
    }
   ],
   "source": [
    "from struct import pack\n",
    "\n",
    "i = 0x1122334455667788\n",
    "hex(i>>8)"
   ]
  },
  {
   "cell_type": "code",
   "execution_count": 60,
   "metadata": {},
   "outputs": [
    {
     "name": "stdout",
     "output_type": "stream",
     "text": [
      "11 22 33 44 55 66 77 88\n",
      "00010001 00100010 00110011 01000100 01010101 01100110 01110111 10001000\n"
     ]
    }
   ],
   "source": [
    "def pp(b):\n",
    "    print(' '.join(hex(x).lstrip('0x').rjust(2, '0') for x in b))\n",
    "    print(' '.join(bin(x).lstrip('0b').rjust(8, '0') for x in b))\n",
    "\n",
    "pp(pack('>q', i))"
   ]
  },
  {
   "cell_type": "code",
   "execution_count": 32,
   "metadata": {},
   "outputs": [
    {
     "data": {
      "text/plain": [
       "'0b11111100000000000000000000000000000000000000000000000000'"
      ]
     },
     "execution_count": 32,
     "metadata": {},
     "output_type": "execute_result"
    }
   ],
   "source": [
    "hex(i & (0b11111100 << 7))\n",
    "bin(0b11111100 << 48)"
   ]
  },
  {
   "cell_type": "code",
   "execution_count": 20,
   "metadata": {},
   "outputs": [
    {
     "data": {
      "text/plain": [
       "0"
      ]
     },
     "execution_count": 20,
     "metadata": {},
     "output_type": "execute_result"
    }
   ],
   "source": []
  },
  {
   "cell_type": "code",
   "execution_count": 72,
   "metadata": {},
   "outputs": [
    {
     "name": "stdout",
     "output_type": "stream",
     "text": [
      "88 c8 c6 b4 a2 d5 cc f7 88\n",
      "10001000 11001000 11000110 10110100 10100010 11010101 11001100 11110111 10001000\n"
     ]
    }
   ],
   "source": [
    "def encode(x):\n",
    "    negative = x < 0\n",
    "    mask = 0xFFFFFFFFFFFFFFFF\n",
    "    if negative:\n",
    "        x = ~x\n",
    "    mask <<= 6\n",
    "    n_bytes = 1\n",
    "    while (x & mask) != 0:\n",
    "        mask <<= 7\n",
    "        n_bytes += 1\n",
    "    \n",
    "    k = n_bytes - 1\n",
    "\n",
    "    o = bytearray(n_bytes)\n",
    "\n",
    "    if n_bytes == 9:\n",
    "        o[k] = x & 0xff\n",
    "        x >>= 8\n",
    "        k -= 1\n",
    "\n",
    "    while k > 0:\n",
    "        byte = x & 0x7F\n",
    "        x >>= 7\n",
    "        if k < n_bytes - 1:\n",
    "            byte |= 0x80\n",
    "        o[k] = byte\n",
    "        k -= 1\n",
    "\n",
    "    byte = x & 0x3F\n",
    "    if n_bytes > 1:\n",
    "        byte |= 0x80\n",
    "    if negative:\n",
    "        byte |= 0x40\n",
    "    o[0] = byte\n",
    "\n",
    "    return o\n",
    "\n",
    "pp(encode(i))"
   ]
  }
 ],
 "metadata": {
  "kernelspec": {
   "display_name": "Python 3.10.8 64-bit",
   "language": "python",
   "name": "python3"
  },
  "language_info": {
   "codemirror_mode": {
    "name": "ipython",
    "version": 3
   },
   "file_extension": ".py",
   "mimetype": "text/x-python",
   "name": "python",
   "nbconvert_exporter": "python",
   "pygments_lexer": "ipython3",
   "version": "3.10.8"
  },
  "orig_nbformat": 4,
  "vscode": {
   "interpreter": {
    "hash": "e7370f93d1d0cde622a1f8e1c04877d8463912d04d973331ad4851f04de6915a"
   }
  }
 },
 "nbformat": 4,
 "nbformat_minor": 2
}
