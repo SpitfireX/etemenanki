{
 "cells": [
  {
   "cell_type": "code",
   "execution_count": 1,
   "metadata": {},
   "outputs": [],
   "source": [
    "header = 160\n",
    "bom_entry = 48\n",
    "n_types = 206838\n",
    "n_tokens = 42569303\n",
    "l_token = 5.02 # bytes per token from chefkoch corpus\n",
    "int = 8\n",
    "\n",
    "def header_size(n):\n",
    "    return header + (n * bom_entry)"
   ]
  },
  {
   "cell_type": "code",
   "execution_count": 2,
   "metadata": {},
   "outputs": [
    {
     "data": {
      "text/plain": [
       "217"
      ]
     },
     "execution_count": 2,
     "metadata": {},
     "output_type": "execute_result"
    }
   ],
   "source": [
    "# container size for base layer, no further partitions\n",
    "def base(n, p=1):\n",
    "    size = header_size(1)\n",
    "    \n",
    "    # Partition Vector\n",
    "    size += p+1 * int\n",
    "\n",
    "    return size\n",
    "\n",
    "base(n_tokens)"
   ]
  },
  {
   "cell_type": "code",
   "execution_count": 4,
   "metadata": {},
   "outputs": [
    {
     "data": {
      "text/plain": [
       "0.97994566706"
      ]
     },
     "execution_count": 4,
     "metadata": {},
     "output_type": "execute_result"
    }
   ],
   "source": [
    "# container size for plain string variable, no further partitions\n",
    "def plain_string(n):\n",
    "    size = header_size(3)\n",
    "\n",
    "    # StringData\n",
    "    size += n * l_token + n # strlen + null bytes\n",
    "\n",
    "    # OffsetStream\n",
    "    size += n + int # 1 byte VarInt offset per string + final byte size\n",
    "\n",
    "    #StringHash (uncompressed)\n",
    "    size += n * 2 * int\n",
    "\n",
    "    return size\n",
    "\n",
    "plain_string(n_tokens)/10**9"
   ]
  }
 ],
 "metadata": {
  "kernelspec": {
   "display_name": "Python 3.10.5 64-bit",
   "language": "python",
   "name": "python3"
  },
  "language_info": {
   "codemirror_mode": {
    "name": "ipython",
    "version": 3
   },
   "file_extension": ".py",
   "mimetype": "text/x-python",
   "name": "python",
   "nbconvert_exporter": "python",
   "pygments_lexer": "ipython3",
   "version": "3.10.8"
  },
  "orig_nbformat": 4,
  "vscode": {
   "interpreter": {
    "hash": "e7370f93d1d0cde622a1f8e1c04877d8463912d04d973331ad4851f04de6915a"
   }
  }
 },
 "nbformat": 4,
 "nbformat_minor": 2
}
